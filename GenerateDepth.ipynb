{
  "nbformat": 4,
  "nbformat_minor": 0,
  "metadata": {
    "colab": {
      "name": "GenerateDepth.ipynb",
      "provenance": [],
      "collapsed_sections": [],
      "include_colab_link": true
    },
    "kernelspec": {
      "name": "python3",
      "display_name": "Python 3"
    },
    "widgets": {
      "application/vnd.jupyter.widget-state+json": {
        "2903dbb709a647ebb48ffe90a4052113": {
          "model_module": "@jupyter-widgets/controls",
          "model_name": "HBoxModel",
          "model_module_version": "1.5.0",
          "state": {
            "_view_name": "HBoxView",
            "_dom_classes": [],
            "_model_name": "HBoxModel",
            "_view_module": "@jupyter-widgets/controls",
            "_model_module_version": "1.5.0",
            "_view_count": null,
            "_view_module_version": "1.5.0",
            "box_style": "",
            "layout": "IPY_MODEL_70a6a55a73e2402688adb832a8e0b290",
            "_model_module": "@jupyter-widgets/controls",
            "children": [
              "IPY_MODEL_8d56585aa4dc4d7d99d52484e9f0ef81",
              "IPY_MODEL_1e7ff65ad63946e58a5a0904623ef99f",
              "IPY_MODEL_8783d1ac421c40ab9a1709e579f8a14a"
            ]
          }
        },
        "70a6a55a73e2402688adb832a8e0b290": {
          "model_module": "@jupyter-widgets/base",
          "model_name": "LayoutModel",
          "model_module_version": "1.2.0",
          "state": {
            "_view_name": "LayoutView",
            "grid_template_rows": null,
            "right": null,
            "justify_content": null,
            "_view_module": "@jupyter-widgets/base",
            "overflow": null,
            "_model_module_version": "1.2.0",
            "_view_count": null,
            "flex_flow": null,
            "width": null,
            "min_width": null,
            "border": null,
            "align_items": null,
            "bottom": null,
            "_model_module": "@jupyter-widgets/base",
            "top": null,
            "grid_column": null,
            "overflow_y": null,
            "overflow_x": null,
            "grid_auto_flow": null,
            "grid_area": null,
            "grid_template_columns": null,
            "flex": null,
            "_model_name": "LayoutModel",
            "justify_items": null,
            "grid_row": null,
            "max_height": null,
            "align_content": null,
            "visibility": null,
            "align_self": null,
            "height": null,
            "min_height": null,
            "padding": null,
            "grid_auto_rows": null,
            "grid_gap": null,
            "max_width": null,
            "order": null,
            "_view_module_version": "1.2.0",
            "grid_template_areas": null,
            "object_position": null,
            "object_fit": null,
            "grid_auto_columns": null,
            "margin": null,
            "display": null,
            "left": null
          }
        },
        "8d56585aa4dc4d7d99d52484e9f0ef81": {
          "model_module": "@jupyter-widgets/controls",
          "model_name": "HTMLModel",
          "model_module_version": "1.5.0",
          "state": {
            "_view_name": "HTMLView",
            "style": "IPY_MODEL_e37663534de54078a7c51025981d3819",
            "_dom_classes": [],
            "description": "",
            "_model_name": "HTMLModel",
            "placeholder": "​",
            "_view_module": "@jupyter-widgets/controls",
            "_model_module_version": "1.5.0",
            "value": "100%",
            "_view_count": null,
            "_view_module_version": "1.5.0",
            "description_tooltip": null,
            "_model_module": "@jupyter-widgets/controls",
            "layout": "IPY_MODEL_27570b066ec64e3c82d8bb725121103e"
          }
        },
        "1e7ff65ad63946e58a5a0904623ef99f": {
          "model_module": "@jupyter-widgets/controls",
          "model_name": "FloatProgressModel",
          "model_module_version": "1.5.0",
          "state": {
            "_view_name": "ProgressView",
            "style": "IPY_MODEL_33ca44370f4846bb932abcd81d03a97a",
            "_dom_classes": [],
            "description": "",
            "_model_name": "FloatProgressModel",
            "bar_style": "success",
            "max": 85761505,
            "_view_module": "@jupyter-widgets/controls",
            "_model_module_version": "1.5.0",
            "value": 85761505,
            "_view_count": null,
            "_view_module_version": "1.5.0",
            "orientation": "horizontal",
            "min": 0,
            "description_tooltip": null,
            "_model_module": "@jupyter-widgets/controls",
            "layout": "IPY_MODEL_c15e3c3c31b348f58bccd79b67109e73"
          }
        },
        "8783d1ac421c40ab9a1709e579f8a14a": {
          "model_module": "@jupyter-widgets/controls",
          "model_name": "HTMLModel",
          "model_module_version": "1.5.0",
          "state": {
            "_view_name": "HTMLView",
            "style": "IPY_MODEL_17325ec913ad484193f9791c0e3704e0",
            "_dom_classes": [],
            "description": "",
            "_model_name": "HTMLModel",
            "placeholder": "​",
            "_view_module": "@jupyter-widgets/controls",
            "_model_module_version": "1.5.0",
            "value": " 81.8M/81.8M [00:02&lt;00:00, 43.4MB/s]",
            "_view_count": null,
            "_view_module_version": "1.5.0",
            "description_tooltip": null,
            "_model_module": "@jupyter-widgets/controls",
            "layout": "IPY_MODEL_65eb30a426af4a26a4d5bbdf8eaf0eb7"
          }
        },
        "e37663534de54078a7c51025981d3819": {
          "model_module": "@jupyter-widgets/controls",
          "model_name": "DescriptionStyleModel",
          "model_module_version": "1.5.0",
          "state": {
            "_view_name": "StyleView",
            "_model_name": "DescriptionStyleModel",
            "description_width": "",
            "_view_module": "@jupyter-widgets/base",
            "_model_module_version": "1.5.0",
            "_view_count": null,
            "_view_module_version": "1.2.0",
            "_model_module": "@jupyter-widgets/controls"
          }
        },
        "27570b066ec64e3c82d8bb725121103e": {
          "model_module": "@jupyter-widgets/base",
          "model_name": "LayoutModel",
          "model_module_version": "1.2.0",
          "state": {
            "_view_name": "LayoutView",
            "grid_template_rows": null,
            "right": null,
            "justify_content": null,
            "_view_module": "@jupyter-widgets/base",
            "overflow": null,
            "_model_module_version": "1.2.0",
            "_view_count": null,
            "flex_flow": null,
            "width": null,
            "min_width": null,
            "border": null,
            "align_items": null,
            "bottom": null,
            "_model_module": "@jupyter-widgets/base",
            "top": null,
            "grid_column": null,
            "overflow_y": null,
            "overflow_x": null,
            "grid_auto_flow": null,
            "grid_area": null,
            "grid_template_columns": null,
            "flex": null,
            "_model_name": "LayoutModel",
            "justify_items": null,
            "grid_row": null,
            "max_height": null,
            "align_content": null,
            "visibility": null,
            "align_self": null,
            "height": null,
            "min_height": null,
            "padding": null,
            "grid_auto_rows": null,
            "grid_gap": null,
            "max_width": null,
            "order": null,
            "_view_module_version": "1.2.0",
            "grid_template_areas": null,
            "object_position": null,
            "object_fit": null,
            "grid_auto_columns": null,
            "margin": null,
            "display": null,
            "left": null
          }
        },
        "33ca44370f4846bb932abcd81d03a97a": {
          "model_module": "@jupyter-widgets/controls",
          "model_name": "ProgressStyleModel",
          "model_module_version": "1.5.0",
          "state": {
            "_view_name": "StyleView",
            "_model_name": "ProgressStyleModel",
            "description_width": "",
            "_view_module": "@jupyter-widgets/base",
            "_model_module_version": "1.5.0",
            "_view_count": null,
            "_view_module_version": "1.2.0",
            "bar_color": null,
            "_model_module": "@jupyter-widgets/controls"
          }
        },
        "c15e3c3c31b348f58bccd79b67109e73": {
          "model_module": "@jupyter-widgets/base",
          "model_name": "LayoutModel",
          "model_module_version": "1.2.0",
          "state": {
            "_view_name": "LayoutView",
            "grid_template_rows": null,
            "right": null,
            "justify_content": null,
            "_view_module": "@jupyter-widgets/base",
            "overflow": null,
            "_model_module_version": "1.2.0",
            "_view_count": null,
            "flex_flow": null,
            "width": null,
            "min_width": null,
            "border": null,
            "align_items": null,
            "bottom": null,
            "_model_module": "@jupyter-widgets/base",
            "top": null,
            "grid_column": null,
            "overflow_y": null,
            "overflow_x": null,
            "grid_auto_flow": null,
            "grid_area": null,
            "grid_template_columns": null,
            "flex": null,
            "_model_name": "LayoutModel",
            "justify_items": null,
            "grid_row": null,
            "max_height": null,
            "align_content": null,
            "visibility": null,
            "align_self": null,
            "height": null,
            "min_height": null,
            "padding": null,
            "grid_auto_rows": null,
            "grid_gap": null,
            "max_width": null,
            "order": null,
            "_view_module_version": "1.2.0",
            "grid_template_areas": null,
            "object_position": null,
            "object_fit": null,
            "grid_auto_columns": null,
            "margin": null,
            "display": null,
            "left": null
          }
        },
        "17325ec913ad484193f9791c0e3704e0": {
          "model_module": "@jupyter-widgets/controls",
          "model_name": "DescriptionStyleModel",
          "model_module_version": "1.5.0",
          "state": {
            "_view_name": "StyleView",
            "_model_name": "DescriptionStyleModel",
            "description_width": "",
            "_view_module": "@jupyter-widgets/base",
            "_model_module_version": "1.5.0",
            "_view_count": null,
            "_view_module_version": "1.2.0",
            "_model_module": "@jupyter-widgets/controls"
          }
        },
        "65eb30a426af4a26a4d5bbdf8eaf0eb7": {
          "model_module": "@jupyter-widgets/base",
          "model_name": "LayoutModel",
          "model_module_version": "1.2.0",
          "state": {
            "_view_name": "LayoutView",
            "grid_template_rows": null,
            "right": null,
            "justify_content": null,
            "_view_module": "@jupyter-widgets/base",
            "overflow": null,
            "_model_module_version": "1.2.0",
            "_view_count": null,
            "flex_flow": null,
            "width": null,
            "min_width": null,
            "border": null,
            "align_items": null,
            "bottom": null,
            "_model_module": "@jupyter-widgets/base",
            "top": null,
            "grid_column": null,
            "overflow_y": null,
            "overflow_x": null,
            "grid_auto_flow": null,
            "grid_area": null,
            "grid_template_columns": null,
            "flex": null,
            "_model_name": "LayoutModel",
            "justify_items": null,
            "grid_row": null,
            "max_height": null,
            "align_content": null,
            "visibility": null,
            "align_self": null,
            "height": null,
            "min_height": null,
            "padding": null,
            "grid_auto_rows": null,
            "grid_gap": null,
            "max_width": null,
            "order": null,
            "_view_module_version": "1.2.0",
            "grid_template_areas": null,
            "object_position": null,
            "object_fit": null,
            "grid_auto_columns": null,
            "margin": null,
            "display": null,
            "left": null
          }
        }
      }
    },
    "accelerator": "GPU"
  },
  "cells": [
    {
      "cell_type": "markdown",
      "metadata": {
        "id": "view-in-github",
        "colab_type": "text"
      },
      "source": [
        "<a href=\"https://colab.research.google.com/github/snowymo/Colabs/blob/main/GenerateDepth.ipynb\" target=\"_parent\"><img src=\"https://colab.research.google.com/assets/colab-badge.svg\" alt=\"Open In Colab\"/></a>"
      ]
    },
    {
      "cell_type": "code",
      "metadata": {
        "colab": {
          "base_uri": "https://localhost:8080/"
        },
        "id": "l6q3vUJFye_A",
        "outputId": "00892577-f08a-4292-b2f4-e0b86ce5546d"
      },
      "source": [
        "!pip install timm"
      ],
      "execution_count": null,
      "outputs": [
        {
          "output_type": "stream",
          "name": "stdout",
          "text": [
            "Collecting timm\n",
            "  Downloading timm-0.4.12-py3-none-any.whl (376 kB)\n",
            "\u001b[?25l\r\u001b[K     |▉                               | 10 kB 25.9 MB/s eta 0:00:01\r\u001b[K     |█▊                              | 20 kB 27.5 MB/s eta 0:00:01\r\u001b[K     |██▋                             | 30 kB 27.7 MB/s eta 0:00:01\r\u001b[K     |███▌                            | 40 kB 27.6 MB/s eta 0:00:01\r\u001b[K     |████▍                           | 51 kB 14.8 MB/s eta 0:00:01\r\u001b[K     |█████▏                          | 61 kB 15.4 MB/s eta 0:00:01\r\u001b[K     |██████                          | 71 kB 12.5 MB/s eta 0:00:01\r\u001b[K     |███████                         | 81 kB 13.6 MB/s eta 0:00:01\r\u001b[K     |███████▉                        | 92 kB 11.8 MB/s eta 0:00:01\r\u001b[K     |████████▊                       | 102 kB 12.5 MB/s eta 0:00:01\r\u001b[K     |█████████▋                      | 112 kB 12.5 MB/s eta 0:00:01\r\u001b[K     |██████████▍                     | 122 kB 12.5 MB/s eta 0:00:01\r\u001b[K     |███████████▎                    | 133 kB 12.5 MB/s eta 0:00:01\r\u001b[K     |████████████▏                   | 143 kB 12.5 MB/s eta 0:00:01\r\u001b[K     |█████████████                   | 153 kB 12.5 MB/s eta 0:00:01\r\u001b[K     |██████████████                  | 163 kB 12.5 MB/s eta 0:00:01\r\u001b[K     |██████████████▊                 | 174 kB 12.5 MB/s eta 0:00:01\r\u001b[K     |███████████████▋                | 184 kB 12.5 MB/s eta 0:00:01\r\u001b[K     |████████████████▌               | 194 kB 12.5 MB/s eta 0:00:01\r\u001b[K     |█████████████████▍              | 204 kB 12.5 MB/s eta 0:00:01\r\u001b[K     |██████████████████▎             | 215 kB 12.5 MB/s eta 0:00:01\r\u001b[K     |███████████████████▏            | 225 kB 12.5 MB/s eta 0:00:01\r\u001b[K     |████████████████████            | 235 kB 12.5 MB/s eta 0:00:01\r\u001b[K     |████████████████████▉           | 245 kB 12.5 MB/s eta 0:00:01\r\u001b[K     |█████████████████████▊          | 256 kB 12.5 MB/s eta 0:00:01\r\u001b[K     |██████████████████████▋         | 266 kB 12.5 MB/s eta 0:00:01\r\u001b[K     |███████████████████████▌        | 276 kB 12.5 MB/s eta 0:00:01\r\u001b[K     |████████████████████████▍       | 286 kB 12.5 MB/s eta 0:00:01\r\u001b[K     |█████████████████████████▏      | 296 kB 12.5 MB/s eta 0:00:01\r\u001b[K     |██████████████████████████      | 307 kB 12.5 MB/s eta 0:00:01\r\u001b[K     |███████████████████████████     | 317 kB 12.5 MB/s eta 0:00:01\r\u001b[K     |███████████████████████████▉    | 327 kB 12.5 MB/s eta 0:00:01\r\u001b[K     |████████████████████████████▊   | 337 kB 12.5 MB/s eta 0:00:01\r\u001b[K     |█████████████████████████████▌  | 348 kB 12.5 MB/s eta 0:00:01\r\u001b[K     |██████████████████████████████▍ | 358 kB 12.5 MB/s eta 0:00:01\r\u001b[K     |███████████████████████████████▎| 368 kB 12.5 MB/s eta 0:00:01\r\u001b[K     |████████████████████████████████| 376 kB 12.5 MB/s \n",
            "\u001b[?25hRequirement already satisfied: torch>=1.4 in /usr/local/lib/python3.7/dist-packages (from timm) (1.9.0+cu111)\n",
            "Requirement already satisfied: torchvision in /usr/local/lib/python3.7/dist-packages (from timm) (0.10.0+cu111)\n",
            "Requirement already satisfied: typing-extensions in /usr/local/lib/python3.7/dist-packages (from torch>=1.4->timm) (3.7.4.3)\n",
            "Requirement already satisfied: numpy in /usr/local/lib/python3.7/dist-packages (from torchvision->timm) (1.19.5)\n",
            "Requirement already satisfied: pillow>=5.3.0 in /usr/local/lib/python3.7/dist-packages (from torchvision->timm) (7.1.2)\n",
            "Installing collected packages: timm\n",
            "Successfully installed timm-0.4.12\n"
          ]
        }
      ]
    },
    {
      "cell_type": "code",
      "metadata": {
        "id": "Av1QxckDOXnY"
      },
      "source": [
        "import cv2\n",
        "import torch\n",
        "import urllib.request\n",
        "import numpy as np\n",
        "import os\n",
        "import matplotlib.pyplot as plt"
      ],
      "execution_count": null,
      "outputs": []
    },
    {
      "cell_type": "code",
      "metadata": {
        "colab": {
          "base_uri": "https://localhost:8080/"
        },
        "id": "lZ1Qk4uHQfRc",
        "outputId": "a0c71b65-7733-4362-b7e7-af5c7dc92b8f"
      },
      "source": [
        "url, filename = (\"https://duruofei.com/images/RuofeiDu.jpg\", \"RuofeiDu.jpg\")\n",
        "urllib.request.urlretrieve(url, filename)"
      ],
      "execution_count": null,
      "outputs": [
        {
          "output_type": "execute_result",
          "data": {
            "text/plain": [
              "('RuofeiDu.jpg', <http.client.HTTPMessage at 0x7ff5dd7cdd10>)"
            ]
          },
          "metadata": {},
          "execution_count": 3
        }
      ]
    },
    {
      "cell_type": "markdown",
      "metadata": {
        "id": "9C7zOUvNOXnY"
      },
      "source": [
        "Load large or small model"
      ]
    },
    {
      "cell_type": "code",
      "metadata": {
        "id": "EsLKL8X3OXnY",
        "colab": {
          "base_uri": "https://localhost:8080/",
          "height": 154,
          "referenced_widgets": [
            "2903dbb709a647ebb48ffe90a4052113",
            "70a6a55a73e2402688adb832a8e0b290",
            "8d56585aa4dc4d7d99d52484e9f0ef81",
            "1e7ff65ad63946e58a5a0904623ef99f",
            "8783d1ac421c40ab9a1709e579f8a14a",
            "e37663534de54078a7c51025981d3819",
            "27570b066ec64e3c82d8bb725121103e",
            "33ca44370f4846bb932abcd81d03a97a",
            "c15e3c3c31b348f58bccd79b67109e73",
            "17325ec913ad484193f9791c0e3704e0",
            "65eb30a426af4a26a4d5bbdf8eaf0eb7"
          ]
        },
        "outputId": "aae4fca5-bc2f-4d17-9ce1-836bd4784fe5"
      },
      "source": [
        "use_large_model = True\n",
        "\n",
        "if use_large_model:\n",
        "    midas = torch.hub.load(\"intel-isl/MiDaS\", \"MiDaS\")\n",
        "else:\n",
        "    midas = torch.hub.load(\"intel-isl/MiDaS\", \"MiDaS_small\")"
      ],
      "execution_count": null,
      "outputs": [
        {
          "output_type": "stream",
          "name": "stderr",
          "text": [
            "Downloading: \"https://github.com/intel-isl/MiDaS/archive/master.zip\" to /root/.cache/torch/hub/master.zip\n"
          ]
        },
        {
          "output_type": "stream",
          "name": "stdout",
          "text": [
            "Loading weights:  None\n"
          ]
        },
        {
          "output_type": "stream",
          "name": "stderr",
          "text": [
            "Downloading: \"https://github.com/rwightman/gen-efficientnet-pytorch/archive/master.zip\" to /root/.cache/torch/hub/master.zip\n",
            "Downloading: \"https://github.com/rwightman/pytorch-image-models/releases/download/v0.1-weights/tf_efficientnet_lite3-b733e338.pth\" to /root/.cache/torch/hub/checkpoints/tf_efficientnet_lite3-b733e338.pth\n",
            "Downloading: \"https://github.com/intel-isl/MiDaS/releases/download/v2_1/model-small-70d6b9c8.pt\" to /root/.cache/torch/hub/checkpoints/model-small-70d6b9c8.pt\n"
          ]
        },
        {
          "output_type": "display_data",
          "data": {
            "application/vnd.jupyter.widget-view+json": {
              "model_id": "2903dbb709a647ebb48ffe90a4052113",
              "version_minor": 0,
              "version_major": 2
            },
            "text/plain": [
              "  0%|          | 0.00/81.8M [00:00<?, ?B/s]"
            ]
          },
          "metadata": {}
        }
      ]
    },
    {
      "cell_type": "markdown",
      "metadata": {
        "id": "QBk2xr5UOXnY"
      },
      "source": [
        "Move model to GPU if available"
      ]
    },
    {
      "cell_type": "code",
      "metadata": {
        "id": "lVeTj0EOOXnZ"
      },
      "source": [
        "device = torch.device(\"cuda\") if torch.cuda.is_available() else torch.device(\"cpu\")\n",
        "midas.to(device)\n",
        "midas = midas.eval()"
      ],
      "execution_count": null,
      "outputs": []
    },
    {
      "cell_type": "markdown",
      "metadata": {
        "id": "i808bN7MOXnZ"
      },
      "source": [
        "Load transforms to resize and normalize the image for large or small model"
      ]
    },
    {
      "cell_type": "code",
      "metadata": {
        "id": "7Oj62bG7OXnZ",
        "colab": {
          "base_uri": "https://localhost:8080/"
        },
        "outputId": "45f96f53-dc46-48d2-bf55-397cb7f78c31"
      },
      "source": [
        "midas_transforms = torch.hub.load(\"intel-isl/MiDaS\", \"transforms\")\n",
        "\n",
        "if use_large_model:\n",
        "    transform = midas_transforms.default_transform\n",
        "else:\n",
        "    transform = midas_transforms.small_transform"
      ],
      "execution_count": null,
      "outputs": [
        {
          "output_type": "stream",
          "name": "stderr",
          "text": [
            "Using cache found in /root/.cache/torch/hub/intel-isl_MiDaS_master\n"
          ]
        }
      ]
    },
    {
      "cell_type": "markdown",
      "metadata": {
        "id": "0UVA7_s0OXna"
      },
      "source": [
        "Load image and apply transforms"
      ]
    },
    {
      "cell_type": "code",
      "metadata": {
        "id": "gQSB_k3jOXna"
      },
      "source": [
        "filename = 'RuofeiDu.jpg'\n",
        "img = cv2.imread(filename)\n",
        "img = cv2.cvtColor(img, cv2.COLOR_BGR2RGB)\n",
        "input_batch = transform(img).to(device)"
      ],
      "execution_count": null,
      "outputs": []
    },
    {
      "cell_type": "markdown",
      "metadata": {
        "id": "YDm9OtaMOXna"
      },
      "source": [
        "Predict and resize to original resolution"
      ]
    },
    {
      "cell_type": "code",
      "metadata": {
        "id": "L6ukOwPLR7W5",
        "colab": {
          "base_uri": "https://localhost:8080/",
          "height": 248
        },
        "outputId": "05244e73-42ef-48e4-ddfb-422f8a83b189"
      },
      "source": [
        "plt.imshow(img); plt.axis('off'); plt.show()"
      ],
      "execution_count": null,
      "outputs": [
        {
          "output_type": "display_data",
          "data": {
            "image/png": "[encoded data removed]",
            "text/plain": [
              "<Figure size 432x288 with 1 Axes>"
            ]
          },
          "metadata": {
            "needs_background": "light"
          }
        }
      ]
    },
    {
      "cell_type": "code",
      "metadata": {
        "id": "1jlQtp5MOXna"
      },
      "source": [
        "with torch.no_grad():\n",
        "    prediction = midas(input_batch)\n",
        "    prediction = torch.nn.functional.interpolate(\n",
        "        prediction.unsqueeze(1),\n",
        "        size=img.shape[:2],\n",
        "        mode=\"bicubic\",\n",
        "        align_corners=False,\n",
        "    ).squeeze()\n",
        "    \n",
        "output = prediction.cpu().numpy()"
      ],
      "execution_count": null,
      "outputs": []
    },
    {
      "cell_type": "markdown",
      "metadata": {
        "id": "-esFtVROOXnb"
      },
      "source": [
        "Show result"
      ]
    },
    {
      "cell_type": "code",
      "metadata": {
        "attributes": {
          "classes": [
            "python "
          ],
          "id": ""
        },
        "id": "vyhqS024OXnb",
        "colab": {
          "base_uri": "https://localhost:8080/",
          "height": 269
        },
        "outputId": "a9d6b135-934c-433f-f7d6-e590ec247e64"
      },
      "source": [
        "plt.imshow(output, cmap='inferno', vmin=output.min(), vmax=output.max()); plt.axis('on'); plt.show()"
      ],
      "execution_count": null,
      "outputs": [
        {
          "output_type": "display_data",
          "data": {
            "image/png": "[encoded data removed]",
            "text/plain": [
              "<Figure size 432x288 with 1 Axes>"
            ]
          },
          "metadata": {
            "needs_background": "light"
          }
        }
      ]
    },
    {
      "cell_type": "code",
      "metadata": {
        "id": "PfNF_GUifUgv"
      },
      "source": [
        "# save depth as image\n",
        "\n",
        "subject = \"Ruofei\"\n",
        "out_name = f'{subject}_depth.jpg'\n",
        "plt.imsave(out_name, output, cmap='gray', vmin=c_output.min(), vmax=c_output.max())"
      ],
      "execution_count": null,
      "outputs": []
    },
    {
      "cell_type": "code",
      "metadata": {
        "id": "nPkuV5q7d5EW"
      },
      "source": [
        "# save depth as numpy array\n",
        "\n",
        "out_name = f'{subject}_depth.npy'\n",
        "np.save(out_name, output)"
      ],
      "execution_count": null,
      "outputs": []
    }
  ]
}